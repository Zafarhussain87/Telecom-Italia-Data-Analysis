{
 "cells": [
  {
   "cell_type": "code",
   "execution_count": 53,
   "metadata": {},
   "outputs": [],
   "source": [
    "import graphlab as gl\n",
    "from datetime import datetime as dt\n",
    "import graphlab.aggregate as agg"
   ]
  },
  {
   "cell_type": "code",
   "execution_count": 54,
   "metadata": {},
   "outputs": [],
   "source": [
    "columns_telecom=['id', 'time_interval','country_code', 'sms_in', 'sms_out', 'call_in', 'call_out', 'int_activity']\n",
    "\n",
    "columns_province = ['id', 'province', 'time', 'sq_to_prov', 'pr_to_sq']\n"
   ]
  },
  {
   "cell_type": "code",
   "execution_count": 55,
   "metadata": {},
   "outputs": [],
   "source": [
    "for j in range(1,32):\n",
    "    file_name_txt = \"milano_telecom_dec/sms-call-internet-mi-2013-12-%d.txt\" %j\n",
    "    file_name_csv = \"milano_telecom_dec/sms-call-internet-mi-2013-12-%d.csv\" %j\n",
    "    add_column_names(file_name_txt,file_name_csv)"
   ]
  },
  {
   "cell_type": "code",
   "execution_count": 1,
   "metadata": {},
   "outputs": [],
   "source": [
    "def add_column_names(file_name_txt,file_name_csv):\n",
    "    day_dec = pd.read_csv(file_name_txt, names=columns_province, header=None, delimiter='\\t')\n",
    "    day_dec = day_nov.fillna(0)\n",
    "    day_dec.to_csv(file_name_csv)"
   ]
  },
  {
   "cell_type": "markdown",
   "metadata": {},
   "source": [
    "I used an approach here to read each csv file as a graphlab frame one be one and then processing on it. In the next phase i used \n",
    "graphlab to read al csv files from a directory as one frame. The idea was to check the time complexity of reading each csv as a frame and reading all csv in one frame.\n",
    "Though i used virtual machine for this project, so keeping its slowness in mind, the performance was still better when i read the whole data as one frame."
   ]
  },
  {
   "cell_type": "code",
   "execution_count": 2,
   "metadata": {},
   "outputs": [],
   "source": [
    "def find_busy_time():\n",
    "    for i in range(1,31):\n",
    "        file_name = \"milano_telecom_nov/sms-call-internet-mi-2013-11-%d.csv\" %i\n",
    "        nov_busy = nov_day_con(file_name)\n",
    "        if i==1:\n",
    "            pop_time = nov_busy\n",
    "        else:\n",
    "            pop_time = pop_time.join(nov_busy, on='time_interval', how= 'inner')\n",
    "        return pop_time"
   ]
  },
  {
   "cell_type": "code",
   "execution_count": 3,
   "metadata": {},
   "outputs": [],
   "source": [
    "def nov_day_con(file_name):\n",
    "    nov_day = gl.SFrame.read_csv(file_name)\n",
    "    nov_day['time_interval'] = nov_day['time_interval'].apply(lambda t:dt.utcfromtimestamp(t/1e3).strftime('%H'))\n",
    "    nov_busy_time = nov_day.groupby(key_columns = 'time_interval', operations= {'smsin':agg.SUM('sms_in'),\n",
    "                                                                                'smsout': agg.SUM('sms_out'), \n",
    "                                                                                'callin': agg.SUM('call_in'),\n",
    "                                                                                'callout': agg.SUM('call_out'),\n",
    "                                                                                'int_activity': agg.SUM('int_activity')})\n",
    "    nov_busy_time['total'] = nov_busy_time['smsin']+ nov_busy_time['smsout'] +nov_busy_time['callin'] +nov_busy_time['callout'] +nov_busy_time['int_activity']\n",
    "    nov_cong_time = nov_busy_time.sort('total', ascending=False)\n",
    "    return nov_cong_time['time_interval', 'total'].head(10)"
   ]
  },
  {
   "cell_type": "code",
   "execution_count": null,
   "metadata": {},
   "outputs": [],
   "source": [
    "busy_time_nov = find_busy_time()"
   ]
  },
  {
   "cell_type": "code",
   "execution_count": null,
   "metadata": {},
   "outputs": [],
   "source": [
    "#Reading all data from directory as a single frame\n",
    "dec = gl.SFrame.read_csv('milano_telecom_dec/')"
   ]
  },
  {
   "cell_type": "code",
   "execution_count": 4,
   "metadata": {},
   "outputs": [],
   "source": [
    "def dec_day_con(dec):\n",
    "    dec['time_interval'] = dec['time_interval'].apply(lambda t:dt.utcfromtimestamp(t/1e3).strftime('%H'))\n",
    "    dec_busy_time = dec.groupby(key_columns = 'time_interval', operations= {'smsin':agg.SUM('sms_in'),\n",
    "                                                                            'smsout': agg.SUM('sms_out'),\n",
    "                                                                            'callin':agg.SUM('call_in'), \n",
    "                                                                            'callout': agg.SUM('call_out'),\n",
    "                                                                            'int_activity': agg.SUM('int_activity')})\n",
    "    dec_busy_time['total'] = dec_busy_time['smsin']+ dec_busy_time['smsout'] +dec_busy_time['callin'] +dec_busy_time['callout'] +dec_busy_time['int_activity']\n",
    "    dec_cong_time = dec_busy_time.sort('total', ascending=False)\n",
    "    return dec_cong_time['time_interval', 'total'].head(10)"
   ]
  },
  {
   "cell_type": "code",
   "execution_count": null,
   "metadata": {},
   "outputs": [],
   "source": [
    "busy_time_dec = dec_day_con(dec)"
   ]
  },
  {
   "cell_type": "code",
   "execution_count": 5,
   "metadata": {},
   "outputs": [],
   "source": [
    "def call_prov(file_name):\n",
    "    pro = gl.SFrame.read_csv(file_name)\n",
    "    famous_prov = pro.groupby(key_columns = 'province', operations= {'count': agg.COUNT()})\n",
    "    famous_prov = famous_prov.sort('count', ascending=False)\n",
    "    return famous_prov.head(6)"
   ]
  },
  {
   "cell_type": "code",
   "execution_count": null,
   "metadata": {},
   "outputs": [],
   "source": [
    "most_called_prov = call_pro()"
   ]
  },
  {
   "cell_type": "code",
   "execution_count": null,
   "metadata": {},
   "outputs": [],
   "source": [
    "social = gl.SFrame.read_csv(\"social_pulse_milan.csv\", header=True)\n",
    "languages_count = social.groupby(key_columns = 'language', operations= {'count': agg.COUNT()})\n",
    "total_count = languages_count.sort('count', ascending=False)\n",
    "total_count.print_rows(15,2)"
   ]
  },
  {
   "cell_type": "code",
   "execution_count": 6,
   "metadata": {},
   "outputs": [],
   "source": [
    "#For Nov 26, 27, and 28 \n",
    "def nov_day_comp(file_name):\n",
    "    nov_day_milan = gl.SFrame.read_csv(file_name)\n",
    "    nov_day_milan['time_interval'] = nov_day_milan['time_interval'].apply(lambda t:dt.utcfromtimestamp(t/1e3).strftime('%H'))\n",
    "    nov_last_week = nov_day_milan.groupby(key_columns = 'time_interval', operations= {'callin':agg.SUM('call_in'), \n",
    "                                                                                      'callout': agg.SUM('call_out'), \n",
    "                                                                                      'int_activity': agg.SUM('int_activity')})\n",
    "    nov_3_days = nov_last_week.sort('time_interval', ascending=True)\n",
    "    return nov_3_days"
   ]
  },
  {
   "cell_type": "code",
   "execution_count": 7,
   "metadata": {},
   "outputs": [],
   "source": [
    "def last_week_nov():\n",
    "    for k in range(26,29):\n",
    "        file_name = \"milano_telecom_nov/sms-call-internet-mi-2013-11-%d.csv\" %k\n",
    "        nov_busy_week = nov_day_comp(file_name)\n",
    "        if k==26:\n",
    "            pop_week_nov = nov_busy_week\n",
    "        else:\n",
    "            pop_week_nov = pop_week_nov.join(nov_busy_week, on='time_interval', how= 'inner')\n",
    "    return pop_week_nov"
   ]
  },
  {
   "cell_type": "code",
   "execution_count": null,
   "metadata": {},
   "outputs": [],
   "source": [
    "nov_3day_com = last_week_nov()"
   ]
  },
  {
   "cell_type": "code",
   "execution_count": 8,
   "metadata": {},
   "outputs": [],
   "source": [
    "#For Dec 24, 25, and 26\n",
    "def last_week_dec():\n",
    "    for k in range(24,27):\n",
    "        file_name = \"milano_telecom_nov/sms-call-internet-mi-2013-11-%d.csv\" %k\n",
    "        dec_busy_week = nov_day_comp(file_name)\n",
    "        if k==26:\n",
    "            pop_week_nov = dec_busy_week\n",
    "        else:\n",
    "            pop_week_nov = pop_week_nov.join(dec_busy_week, on='time_interval', how= 'inner')\n",
    "    return pop_week_nov"
   ]
  },
  {
   "cell_type": "code",
   "execution_count": null,
   "metadata": {},
   "outputs": [],
   "source": [
    "dec_3day_com = last_week_dec()"
   ]
  },
  {
   "cell_type": "code",
   "execution_count": null,
   "metadata": {},
   "outputs": [],
   "source": [
    "compare_months = gl.SFrame()"
   ]
  },
  {
   "cell_type": "code",
   "execution_count": null,
   "metadata": {},
   "outputs": [],
   "source": [
    "compare_months.show()"
   ]
  },
  {
   "cell_type": "code",
   "execution_count": null,
   "metadata": {},
   "outputs": [],
   "source": [
    "compare_months['time'] = nov_3day_com['time_interval']\n",
    "compare_months['nov_calls'] = nov_3day_com['callin'] + nov_3day_com['callout'] \n",
    "compare_months['nov_internet'] = nov_3day_com['int_activity']\n",
    "compare_months['dec_calls'] = dec_3day_com['callin'] + dec_3day_com['callout'] \n",
    "compare_months['dec_internet'] = dec_3day_com['activity']"
   ]
  },
  {
   "cell_type": "code",
   "execution_count": null,
   "metadata": {},
   "outputs": [],
   "source": [
    "torento_prov = gl.SFrame.read_csv('trento/trento_provinces')"
   ]
  },
  {
   "cell_type": "code",
   "execution_count": 9,
   "metadata": {},
   "outputs": [],
   "source": [
    "def call_prov(file_name):\n",
    "    famous_prov = pro.groupby(key_columns = 'province', operations= {'count': agg.COUNT()})\n",
    "    famous_prov = famous_prov.sort('count', ascending=False)\n",
    "    return famous_prov.head(5)"
   ]
  },
  {
   "cell_type": "code",
   "execution_count": null,
   "metadata": {},
   "outputs": [],
   "source": [
    "call_prov(torento_prov)"
   ]
  },
  {
   "cell_type": "code",
   "execution_count": null,
   "metadata": {},
   "outputs": [],
   "source": [
    "trento_teleco = gl.SFrame.read_csv('trento/trento_telecom/')"
   ]
  },
  {
   "cell_type": "code",
   "execution_count": null,
   "metadata": {},
   "outputs": [],
   "source": [
    "def trento_busy_hours(dec):\n",
    "    trento_telecom['time_interval'] = trento_telecom['time_interval'].apply(lambda t:dt.utcfromtimestamp(t/1e3).strftime('%H'))\n",
    "    trento_telecom_busy = trento_telecom.groupby(key_columns = 'time_interval', operations= {'smsin':agg.SUM('sms_in'),\n",
    "                                                                            'smsout': agg.SUM('sms_out'),\n",
    "                                                                            'callin':agg.SUM('call_in'), \n",
    "                                                                            'callout': agg.SUM('call_out'),\n",
    "                                                                            'int_activity': agg.SUM('int_activity')})\n",
    "    trento_telecom_busy['total'] = trento_telecom_busy['smsin']+ dec_busy_time['smsout'] +dec_busy_time['callin'] +dec_busy_time['callout'] +dec_busy_time['int_activity']\n",
    "    trento_cong_time = trento_telecom_busy.sort('total', ascending=False)\n",
    "    return trento_cong_time['time_interval', 'total']"
   ]
  },
  {
   "cell_type": "code",
   "execution_count": null,
   "metadata": {},
   "outputs": [],
   "source": [
    "trento_telecom = gl.SFrame.read_csv('trneto/trento_telecom')"
   ]
  },
  {
   "cell_type": "code",
   "execution_count": null,
   "metadata": {},
   "outputs": [],
   "source": [
    "def dec_day_con(dec):\n",
    "    dec_busy_time = dec.groupby(key_columns = 'time_interval', operations= {'smsin':agg.SUM('smsin'),\n",
    "                                                                            'smsout': agg.SUM('smsout'), \n",
    "                                                                            'callin':agg.SUM('callin'), \n",
    "                                                                            'callout': agg.SUM('callout'),\n",
    "                                                                            'int_activity': agg.SUM('int_activity')})\n",
    "    dec_busy_time['total'] = dec_busy_time['smsin']+ dec_busy_time['smsout'] +dec_busy_time['callin'] +dec_busy_time['callout'] +dec_busy_time['int_activity']\n",
    "    dec_cong_time = dec_busy_time.sort('total', ascending=False)\n",
    "    return dec_cong_time['time_interval', 'total']"
   ]
  },
  {
   "cell_type": "code",
   "execution_count": null,
   "metadata": {},
   "outputs": [],
   "source": [
    "trento_busy_hours = dec_day_con(trento_time)"
   ]
  },
  {
   "cell_type": "code",
   "execution_count": null,
   "metadata": {},
   "outputs": [],
   "source": [
    "trento_time = gl.SFrame(trento_telecom)"
   ]
  },
  {
   "cell_type": "code",
   "execution_count": null,
   "metadata": {},
   "outputs": [],
   "source": [
    "trento_plots.show(columns=['time_interval', 'total'],view='Heat Map', x='time_interval', y='total')"
   ]
  },
  {
   "cell_type": "code",
   "execution_count": null,
   "metadata": {},
   "outputs": [],
   "source": [
    "weather = gl.SFrame.read_csv('milano_weather.csv')"
   ]
  },
  {
   "cell_type": "code",
   "execution_count": null,
   "metadata": {},
   "outputs": [],
   "source": [
    "clear_weather = gl.SFrame()\n",
    "rain_weather = gl.SFrame()\n",
    "snow_weather = gl.SFrame()"
   ]
  },
  {
   "cell_type": "code",
   "execution_count": null,
   "metadata": {},
   "outputs": [],
   "source": [
    "clear_weather = weather.filter_by(0, 'type')\n",
    "rain_weather = weather.filter_by(1, 'type')\n",
    "snow_weather = weather.filter_by(2, 'type')"
   ]
  },
  {
   "cell_type": "code",
   "execution_count": null,
   "metadata": {},
   "outputs": [],
   "source": [
    "clear_weather = clear_weather.join(trento_usage, on='timestamp', how='inner')\n",
    "rain_weather = rain_weather.join(trento_usage, on='timestamp', how='inner')\n",
    "snow_weather = snow_weather.join(trento_usage, on='timestamp', how='inner')"
   ]
  },
  {
   "cell_type": "code",
   "execution_count": null,
   "metadata": {},
   "outputs": [],
   "source": [
    "import seaborn as sns\n",
    "sns.set()\n",
    "sns.distplot(clear['total'], kde=False)\n",
    "sns.distplot(rain['total'], kde=False)\n",
    "sns.distplot(snow['total'], kde=False)\n",
    "\n",
    "plt.legend(['Clear', 'Rain', 'Snow'])\n",
    "\n",
    "plt.axvline(0, color=\"k\", linestyle=\"--\");\n",
    "plt.show()"
   ]
  }
 ],
 "metadata": {
  "kernelspec": {
   "display_name": "Python 3",
   "language": "python",
   "name": "python3"
  },
  "language_info": {
   "codemirror_mode": {
    "name": "ipython",
    "version": 3
   },
   "file_extension": ".py",
   "mimetype": "text/x-python",
   "name": "python",
   "nbconvert_exporter": "python",
   "pygments_lexer": "ipython3",
   "version": "3.7.0"
  }
 },
 "nbformat": 4,
 "nbformat_minor": 2
}
